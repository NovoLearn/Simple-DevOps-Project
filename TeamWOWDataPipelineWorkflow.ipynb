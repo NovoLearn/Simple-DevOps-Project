{
  "nbformat": 4,
  "nbformat_minor": 0,
  "metadata": {
    "colab": {
      "name": "TeamWOWDataPipelineWorkflow.ipynb",
      "provenance": [],
      "collapsed_sections": [],
      "toc_visible": true,
      "authorship_tag": "ABX9TyNw35lSpQ5MCxFDwtxpxQ3H",
      "include_colab_link": true
    },
    "kernelspec": {
      "name": "python3",
      "display_name": "Python 3"
    },
    "language_info": {
      "name": "python"
    }
  },
  "cells": [
    {
      "cell_type": "markdown",
      "metadata": {
        "id": "view-in-github",
        "colab_type": "text"
      },
      "source": [
        "<a href=\"https://colab.research.google.com/github/NovoLearn/Simple-DevOps-Project/blob/master/TeamWOWDataPipelineWorkflow.ipynb\" target=\"_parent\"><img src=\"https://colab.research.google.com/assets/colab-badge.svg\" alt=\"Open In Colab\"/></a>"
      ]
    },
    {
      "cell_type": "markdown",
      "metadata": {
        "id": "SI8BOit7VPx9"
      },
      "source": [
        "# Team WOW Data Pipeline Workflow\n",
        "## Summary\n",
        "The Team WOW self-assessments diagnostics insights and recommendations reports should be created programitically and by configuration, seperating the data model from the user interface/images created when possible.\n",
        "\n",
        "## Background\n",
        "Currently, the Team WOW reports are an MVP (not even one MMR) and created in a very manual way, lending itself to quality anbd and rework issues, more time required and no scalability.  The concept has been provenb and a lot has been learned.\n",
        "\n",
        "Now there is a an automated visusaliation MVP, created in Python.  The outputting visualisation images are superb.  But at the moment a lot of the data models are created in the \"view\" layer, i.e. the code that creates the visualisations also creates the intermediary data models.\n",
        "\n",
        "So while the visualisation creation approach is now proven, the opportunity is to make this part of a data pipeline workflow, that takes an existing data model and uses minimal logic.\n",
        "\n",
        "## Objectives\n",
        "The approach is to now create a scalable, test-driven, automated and abstracted data transformation and visualisation workflow.This means:\n",
        "* **Going from**: hard coded, complex and intermingled data and view models logic that is prone to error and requires a lot of repetitive, manual testing, to:\n",
        "* **Going to**: abstracted, separated data transformation and visualisation workflow and patterns  \n",
        "\n",
        "<table>\n",
        "  <tr>\n",
        "    <td><b>From</b></td>\n",
        "    <td><b>To</b></td>\n",
        "  </tr>\n",
        "  <tr>\n",
        "    <td>Manually transformed (mapped) CSV files: of Excel/CSV files created by diagnostics survey tools</td>\n",
        "    <td>Programatically transforming CSV files: to be used as data models downstream in the pipeline</td>\n",
        "  </tr>\n",
        "  <tr>\n",
        "    <td>Hard coding data in the view models</td>\n",
        "    <td>Configuration files for creating data and view models </td>\n",
        "  </tr>\n",
        "  <tr>\n",
        "    <td>Manual testing everthing</td>\n",
        "    <td>Test-driven and automated testing by default</td>\n",
        "  </tr>\n",
        "  <tr>\n",
        "    <td>No quality standards: nothing documented, no standards for partners, teams anyone touching the product to adopt</td>\n",
        "    <td>Defined quality standards for testing, code quality, configurations, architecture etc</td>\n",
        "  </tr>\n",
        "  <tr>\n",
        "    <td>...</td>\n",
        "    <td>...</td>\n",
        "  </tr>\n",
        "</table>\n",
        "\n",
        "## Design Principles\n",
        "1.   **Shift left**.  Uncover problems sooner.  Move validation of functioning solutions left into everything we do.  The sooner we uncover issues, the sooner and faster we can resolve and continue being awesome and having happy customers\n",
        "2.   **Version controlled**.  Make it easy to try new things, extend capability and fail safely all while our cusotmers remain delighted with the in-production services they are consuming\n",
        "3.   **Test-driven design**. Make test-driven develpment the standard.  Make test-driven by default so that humans can do bigger and better things at the same time as having supeior quality, performance and productivity  \n",
        "4.   **Abstraction through configuration**.  Make it easy to for humans and machines to orchstrate applications through configuration, instead of hard coding in model, view and control layers.  Use Model-View-Controller mindset and approaches by default\n",
        "5.   **Automated**.  Automate all quality and creation workflows as a rule of thumb\n",
        "6.   **Decouple to build for scale** Make data models available to more than opne application or service.  Make it logical to build for other data models and visulisations in the future\n",
        "\n",
        "\n",
        "\n"
      ]
    },
    {
      "cell_type": "markdown",
      "metadata": {
        "id": "lUk275i6jTt-"
      },
      "source": [
        "# Solutions\n",
        "These are potential solutions sets to meet the described objectives:\n",
        "\n",
        "## Transform diagnostic survey data\n",
        "\n",
        "### Create a new data CSV file that will be referenced by the visualisation layer\n",
        "*   Reference: Draw.io file: WOW Assessment Entity Relationship Mappings\n",
        "*   YAML configuration files: https://github.com/NovoLearn/TeamWOWDataPipeline \n",
        "\n",
        "1.   Load source CSV\n",
        "2.   Create new DataFrame\n",
        "3.   Remove 2nd row\n",
        "4.   Rename columns\n",
        "5.   Save as a new CSV\n",
        "\n",
        "### Add all calcualtions to the new data CSV file that will be referenced by the visualisation layer\n",
        "*   Reference: Draw.io file: WOW Assessment Entity Relationship Mappings\n",
        "*   YAML configuration files: https://github.com/NovoLearn/TeamWOWDataPipeline \n",
        "\n",
        "1.   Load source CSV\n",
        "2.   Create new DataFrame\n",
        "3.   Add calculations columns\n",
        "5.   Save as a new CSV\n",
        "\n",
        "### Create new data model and CSV for summaries\n",
        "*   Reference: Draw.io file: WOW Assessment Entity Relationship Mappings\n",
        "*   YAML configuration files: https://github.com/NovoLearn/TeamWOWDataPipeline \n",
        "\n",
        "1.   Load new source CSV\n",
        "2.   Create new DataFrame\n",
        "3.   Create summarties columns\n",
        "3.   Add calculations values to the rows\n",
        "5.   Save as a new CSV\n",
        "\n",
        "## Visualisation layer: visualisation only ##\n",
        "\n",
        "*   Reference: Draw.io file: WOW Assessment Entity Relationship Mappings\n",
        "*   YAML configuration files: https://github.com/NovoLearn/TeamWOWDataPipeline \n",
        "\n",
        "1. Load configuration files\n",
        "2. Load new Data CSVs\n",
        "3. Create and export the visualisations"
      ]
    },
    {
      "cell_type": "markdown",
      "metadata": {
        "id": "QtLEoUQUn26F"
      },
      "source": [
        "# Solution: Transform diagnostic survey data: Create a new data CSV file that will be referenced by the visualisation layer\n",
        "\n"
      ]
    }
  ]
}